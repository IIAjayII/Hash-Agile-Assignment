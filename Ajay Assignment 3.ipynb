{
 "cells": [
  {
   "cell_type": "code",
   "execution_count": 30,
   "id": "3e29b6b7-4451-4dac-8ede-52dc40d75829",
   "metadata": {},
   "outputs": [],
   "source": [
    "from elasticsearch import Elasticsearch"
   ]
  },
  {
   "cell_type": "code",
   "execution_count": 31,
   "id": "39599685-ac22-43fc-8a8f-66d2183799e4",
   "metadata": {},
   "outputs": [
    {
     "name": "stdout",
     "output_type": "stream",
     "text": [
      "{'name': 'DESKTOP-PJIL76A', 'cluster_name': 'elasticsearch', 'cluster_uuid': 'lx_ghzATSPiTVAneu8LXqA', 'version': {'number': '8.15.2', 'build_flavor': 'default', 'build_type': 'zip', 'build_hash': '98adf7bf6bb69b66ab95b761c9e5aadb0bb059a3', 'build_date': '2024-09-19T10:06:03.564235954Z', 'build_snapshot': False, 'lucene_version': '9.11.1', 'minimum_wire_compatibility_version': '7.17.0', 'minimum_index_compatibility_version': '7.0.0'}, 'tagline': 'You Know, for Search'}\n"
     ]
    }
   ],
   "source": [
    "from elasticsearch import Elasticsearch\n",
    "\n",
    "# Replace 'elastic' and 'your_password' with your actual username and password\n",
    "es = Elasticsearch(\n",
    "    [{\"host\": \"localhost\", \"port\": 9200, \"scheme\": \"http\"}],  # Specify scheme here\n",
    "    basic_auth=('elastic', 'GFahX5h4A0m-m7F2Q9Qv'),\n",
    "    verify_certs=False  # Disable SSL certificate verification for localhost\n",
    ")\n",
    "\n",
    "# Test connection\n",
    "print(es.info())"
   ]
  },
  {
   "cell_type": "code",
   "execution_count": 32,
   "id": "d2c673f2-6c30-41bd-b175-2d02a50402a8",
   "metadata": {},
   "outputs": [
    {
     "name": "stdout",
     "output_type": "stream",
     "text": [
      "Index 'employee_office' already exists.\n"
     ]
    }
   ],
   "source": [
    "index_name = 'employee_office'\n",
    "\n",
    "# Check if the index already exists\n",
    "if not es.indices.exists(index=index_name):\n",
    "    # Create the index if it does not exist\n",
    "    es.indices.create(index=index_name)\n",
    "    print(f\"Index '{index_name}' created.\")\n",
    "else:\n",
    "    print(f\"Index '{index_name}' already exists.\")"
   ]
  },
  {
   "cell_type": "code",
   "execution_count": 33,
   "id": "7b1c6e4b-fa9a-4d76-b168-2ed8a3fd0d71",
   "metadata": {},
   "outputs": [
    {
     "data": {
      "text/plain": [
       "HeadApiResponse(True)"
      ]
     },
     "execution_count": 33,
     "metadata": {},
     "output_type": "execute_result"
    }
   ],
   "source": [
    "es.indices.exists(index=\"employee_office\")"
   ]
  },
  {
   "cell_type": "code",
   "execution_count": 34,
   "id": "cc3165e4-3648-4a1f-9870-f5de65b6ce21",
   "metadata": {},
   "outputs": [
    {
     "name": "stdout",
     "output_type": "stream",
     "text": [
      "Requirement already satisfied: pandas in c:\\users\\acer\\appdata\\local\\programs\\python\\python312\\lib\\site-packages (2.2.3)\n",
      "Requirement already satisfied: elasticsearch in c:\\users\\acer\\appdata\\local\\programs\\python\\python312\\lib\\site-packages (8.15.1)\n",
      "Requirement already satisfied: numpy>=1.26.0 in c:\\users\\acer\\appdata\\local\\programs\\python\\python312\\lib\\site-packages (from pandas) (2.1.1)\n",
      "Requirement already satisfied: python-dateutil>=2.8.2 in c:\\users\\acer\\appdata\\local\\programs\\python\\python312\\lib\\site-packages (from pandas) (2.9.0.post0)\n",
      "Requirement already satisfied: pytz>=2020.1 in c:\\users\\acer\\appdata\\local\\programs\\python\\python312\\lib\\site-packages (from pandas) (2024.2)\n",
      "Requirement already satisfied: tzdata>=2022.7 in c:\\users\\acer\\appdata\\local\\programs\\python\\python312\\lib\\site-packages (from pandas) (2024.2)\n",
      "Requirement already satisfied: elastic-transport<9,>=8.13 in c:\\users\\acer\\appdata\\local\\programs\\python\\python312\\lib\\site-packages (from elasticsearch) (8.15.0)\n",
      "Requirement already satisfied: urllib3<3,>=1.26.2 in c:\\users\\acer\\appdata\\local\\programs\\python\\python312\\lib\\site-packages (from elastic-transport<9,>=8.13->elasticsearch) (1.26.20)\n",
      "Requirement already satisfied: certifi in c:\\users\\acer\\appdata\\local\\programs\\python\\python312\\lib\\site-packages (from elastic-transport<9,>=8.13->elasticsearch) (2024.8.30)\n",
      "Requirement already satisfied: six>=1.5 in c:\\users\\acer\\appdata\\local\\programs\\python\\python312\\lib\\site-packages (from python-dateutil>=2.8.2->pandas) (1.16.0)\n",
      "Note: you may need to restart the kernel to use updated packages.\n"
     ]
    }
   ],
   "source": [
    "pip install pandas elasticsearch\n"
   ]
  },
  {
   "cell_type": "code",
   "execution_count": 37,
   "id": "b26a4b98-d2ee-40fa-a6a3-f59bc5f5d0f6",
   "metadata": {},
   "outputs": [],
   "source": [
    "import pandas as pd\n",
    "import datetime\n",
    "import os\n",
    "import sys"
   ]
  },
  {
   "cell_type": "code",
   "execution_count": 38,
   "id": "1fe59e4b-13ac-4d82-a6fe-0591b7cb68fd",
   "metadata": {},
   "outputs": [
    {
     "name": "stdout",
     "output_type": "stream",
     "text": [
      "Employee Sample Data.csv\n"
     ]
    }
   ],
   "source": [
    "import os\n",
    "directory = \"D:/\"\n",
    "for filename in os.listdir(directory):\n",
    "    if filename.endswith('.csv'):\n",
    "        print(filename)\n"
   ]
  },
  {
   "cell_type": "code",
   "execution_count": 39,
   "id": "af961887-6253-4994-953d-82f0b350045a",
   "metadata": {},
   "outputs": [
    {
     "data": {
      "text/html": [
       "<div>\n",
       "<style scoped>\n",
       "    .dataframe tbody tr th:only-of-type {\n",
       "        vertical-align: middle;\n",
       "    }\n",
       "\n",
       "    .dataframe tbody tr th {\n",
       "        vertical-align: top;\n",
       "    }\n",
       "\n",
       "    .dataframe thead th {\n",
       "        text-align: right;\n",
       "    }\n",
       "</style>\n",
       "<table border=\"1\" class=\"dataframe\">\n",
       "  <thead>\n",
       "    <tr style=\"text-align: right;\">\n",
       "      <th></th>\n",
       "      <th>Employee ID</th>\n",
       "      <th>Full Name</th>\n",
       "      <th>Job Title</th>\n",
       "      <th>Department</th>\n",
       "      <th>Business Unit</th>\n",
       "      <th>Gender</th>\n",
       "      <th>Ethnicity</th>\n",
       "      <th>Age</th>\n",
       "      <th>Hire Date</th>\n",
       "      <th>Annual Salary</th>\n",
       "      <th>Bonus %</th>\n",
       "      <th>Country</th>\n",
       "      <th>City</th>\n",
       "      <th>Exit Date</th>\n",
       "    </tr>\n",
       "  </thead>\n",
       "  <tbody>\n",
       "    <tr>\n",
       "      <th>0</th>\n",
       "      <td>E02002</td>\n",
       "      <td>Kai Le</td>\n",
       "      <td>Controls Engineer</td>\n",
       "      <td>Engineering</td>\n",
       "      <td>Manufacturing</td>\n",
       "      <td>Male</td>\n",
       "      <td>Asian</td>\n",
       "      <td>47.0</td>\n",
       "      <td>2/5/2022</td>\n",
       "      <td>$92,368</td>\n",
       "      <td>0%</td>\n",
       "      <td>United States</td>\n",
       "      <td>Columbus</td>\n",
       "      <td>NaN</td>\n",
       "    </tr>\n",
       "    <tr>\n",
       "      <th>1</th>\n",
       "      <td>E02003</td>\n",
       "      <td>Robert Patel</td>\n",
       "      <td>Analyst</td>\n",
       "      <td>Sales</td>\n",
       "      <td>Corporate</td>\n",
       "      <td>Male</td>\n",
       "      <td>Asian</td>\n",
       "      <td>58.0</td>\n",
       "      <td>10/23/2013</td>\n",
       "      <td>$45,703</td>\n",
       "      <td>0%</td>\n",
       "      <td>United States</td>\n",
       "      <td>Chicago</td>\n",
       "      <td>NaN</td>\n",
       "    </tr>\n",
       "    <tr>\n",
       "      <th>2</th>\n",
       "      <td>E02004</td>\n",
       "      <td>Cameron Lo</td>\n",
       "      <td>Network Administrator</td>\n",
       "      <td>IT</td>\n",
       "      <td>Research &amp; Development</td>\n",
       "      <td>Male</td>\n",
       "      <td>Asian</td>\n",
       "      <td>34.0</td>\n",
       "      <td>3/24/2019</td>\n",
       "      <td>$83,576</td>\n",
       "      <td>0%</td>\n",
       "      <td>China</td>\n",
       "      <td>Shanghai</td>\n",
       "      <td>NaN</td>\n",
       "    </tr>\n",
       "    <tr>\n",
       "      <th>3</th>\n",
       "      <td>E02005</td>\n",
       "      <td>Harper Castillo</td>\n",
       "      <td>IT Systems Architect</td>\n",
       "      <td>IT</td>\n",
       "      <td>Corporate</td>\n",
       "      <td>Female</td>\n",
       "      <td>Latino</td>\n",
       "      <td>39.0</td>\n",
       "      <td>4/7/2018</td>\n",
       "      <td>$98,062</td>\n",
       "      <td>0%</td>\n",
       "      <td>United States</td>\n",
       "      <td>Seattle</td>\n",
       "      <td>NaN</td>\n",
       "    </tr>\n",
       "    <tr>\n",
       "      <th>4</th>\n",
       "      <td>E02006</td>\n",
       "      <td>Harper Dominguez</td>\n",
       "      <td>Director</td>\n",
       "      <td>Engineering</td>\n",
       "      <td>Corporate</td>\n",
       "      <td>Female</td>\n",
       "      <td>Latino</td>\n",
       "      <td>42.0</td>\n",
       "      <td>6/18/2005</td>\n",
       "      <td>$175,391</td>\n",
       "      <td>24%</td>\n",
       "      <td>United States</td>\n",
       "      <td>Austin</td>\n",
       "      <td>NaN</td>\n",
       "    </tr>\n",
       "  </tbody>\n",
       "</table>\n",
       "</div>"
      ],
      "text/plain": [
       "  Employee ID         Full Name              Job Title   Department  \\\n",
       "0      E02002            Kai Le      Controls Engineer  Engineering   \n",
       "1      E02003      Robert Patel                Analyst        Sales   \n",
       "2      E02004        Cameron Lo  Network Administrator           IT   \n",
       "3      E02005   Harper Castillo   IT Systems Architect           IT   \n",
       "4      E02006  Harper Dominguez               Director  Engineering   \n",
       "\n",
       "            Business Unit  Gender Ethnicity   Age   Hire Date Annual Salary  \\\n",
       "0           Manufacturing    Male     Asian  47.0    2/5/2022      $92,368    \n",
       "1               Corporate    Male     Asian  58.0  10/23/2013      $45,703    \n",
       "2  Research & Development    Male     Asian  34.0   3/24/2019      $83,576    \n",
       "3               Corporate  Female    Latino  39.0    4/7/2018      $98,062    \n",
       "4               Corporate  Female    Latino  42.0   6/18/2005     $175,391    \n",
       "\n",
       "  Bonus %        Country      City Exit Date  \n",
       "0      0%  United States  Columbus       NaN  \n",
       "1      0%  United States   Chicago       NaN  \n",
       "2      0%          China  Shanghai       NaN  \n",
       "3      0%  United States   Seattle       NaN  \n",
       "4     24%  United States    Austin       NaN  "
      ]
     },
     "execution_count": 39,
     "metadata": {},
     "output_type": "execute_result"
    }
   ],
   "source": [
    "df = pd.read_csv(\"D:/Employee Sample Data.csv\", encoding='ISO-8859-1')\n",
    "df.head()"
   ]
  },
  {
   "cell_type": "code",
   "execution_count": 40,
   "id": "c86f4f23-bc32-4575-bcab-f0838e75df9e",
   "metadata": {},
   "outputs": [],
   "source": [
    "import json\n",
    "from elasticsearch import Elasticsearch, helpers\n",
    "from elasticsearch.exceptions import NotFoundError, RequestError "
   ]
  },
  {
   "cell_type": "code",
   "execution_count": 41,
   "id": "a0e4a503-257d-4b87-adbe-7de6c0b19b1d",
   "metadata": {},
   "outputs": [
    {
     "name": "stdout",
     "output_type": "stream",
     "text": [
      "Data indexed successfully. Indexed documents count: 1262\n"
     ]
    }
   ],
   "source": [
    "df = df.where(pd.notnull(df), None)\n",
    "\n",
    "# Convert the DataFrame to JSON format\n",
    "json_data = df.to_json(orient='records')\n",
    "\n",
    "# Load JSON data\n",
    "data_to_index = json.loads(json_data)\n",
    "\n",
    "# Generate data for bulk indexing\n",
    "def generate_data(df):\n",
    "    for record in df.to_dict(orient='records'):\n",
    "        # Replace NaN with None for numeric fields (like Age)\n",
    "        record['Age'] = record['Age'] if pd.notnull(record['Age']) else None\n",
    "        record['Annual Salary'] = record['Annual Salary'].replace('$', '').strip() if pd.notnull(record['Annual Salary']) else None\n",
    "        yield {\n",
    "            \"_index\": \"employee_office\",\n",
    "            \"_id\": record.get(\"Employee ID\"),  # Use Employee ID as document ID\n",
    "            \"_source\": record\n",
    "        }\n",
    "\n",
    "# Perform bulk indexing\n",
    "try:\n",
    "    response = helpers.bulk(es, generate_data(df))\n",
    "    print(\"Data indexed successfully. Indexed documents count:\", response[0])\n",
    "except Exception as e:\n",
    "    print(\"An unexpected error occurred:\", str(e))\n",
    "    if hasattr(e, 'errors'):\n",
    "        print(\"Failed to index documents:\", e.errors)"
   ]
  },
  {
   "cell_type": "code",
   "execution_count": 42,
   "id": "5aa5ef3d-2057-4d8b-baee-0ec293ecadba",
   "metadata": {},
   "outputs": [],
   "source": [
    "# Define the collections as global variables\n",
    "collections = {}"
   ]
  },
  {
   "cell_type": "code",
   "execution_count": 43,
   "id": "147a0d5c-ed78-4d5f-b170-e3b024c1ed21",
   "metadata": {},
   "outputs": [],
   "source": [
    "def createCollection(p_collection_name):\n",
    "    return df.copy()"
   ]
  },
  {
   "cell_type": "code",
   "execution_count": 44,
   "id": "2f85a58e-9b28-4ef0-a5db-40859473c030",
   "metadata": {},
   "outputs": [],
   "source": [
    "def indexData(df, p_exclude_column):\n",
    "    indexed_df = df.drop(columns=[p_exclude_column])\n",
    "    return indexed_df\n"
   ]
  },
  {
   "cell_type": "code",
   "execution_count": 45,
   "id": "b96f6f8f-0cd7-4567-9359-b879e661f48b",
   "metadata": {},
   "outputs": [],
   "source": [
    "def searchByColumn(df, p_column_name, p_column_value):\n",
    "    result = df[df[p_column_name] == p_column_value]\n",
    "    return result"
   ]
  },
  {
   "cell_type": "code",
   "execution_count": 46,
   "id": "7707f1cc-d78c-4862-bddb-acf8e8989c5d",
   "metadata": {},
   "outputs": [],
   "source": [
    "def getEmpCount(df):\n",
    "    return df.shape[0]"
   ]
  },
  {
   "cell_type": "code",
   "execution_count": 47,
   "id": "cfbb115e-2070-46e4-a134-7ffd2d33f91c",
   "metadata": {},
   "outputs": [],
   "source": [
    "def delEmpById(df, p_employee_id):\n",
    "    return df[df['Employee ID'] != p_employee_id]"
   ]
  },
  {
   "cell_type": "code",
   "execution_count": 48,
   "id": "e2e3e5f0-6add-45ed-98bf-e62fd493cdfb",
   "metadata": {},
   "outputs": [],
   "source": [
    "def getDepFacet(df):\n",
    "    return df['Department'].value_counts()"
   ]
  },
  {
   "cell_type": "code",
   "execution_count": 49,
   "id": "abc35af2-5654-4293-ba76-59d1c2759864",
   "metadata": {},
   "outputs": [],
   "source": [
    "v_nameCollection = 'Hash_Ajaykumar'\n",
    "v_phoneCollection = 'Hash_1234' "
   ]
  },
  {
   "cell_type": "code",
   "execution_count": 50,
   "id": "8824c48f-37a0-4954-b25d-8da6a961727d",
   "metadata": {},
   "outputs": [],
   "source": [
    "name_collection = createCollection(v_nameCollection)\n",
    "phone_collection = createCollection(v_phoneCollection)"
   ]
  },
  {
   "cell_type": "code",
   "execution_count": 51,
   "id": "11dc5b46-451e-44c2-bcb4-8c2a08069633",
   "metadata": {},
   "outputs": [
    {
     "name": "stdout",
     "output_type": "stream",
     "text": [
      "Employee Count in Name Collection: 1262\n"
     ]
    }
   ],
   "source": [
    "print(\"Employee Count in Name Collection:\", getEmpCount(name_collection))"
   ]
  },
  {
   "cell_type": "code",
   "execution_count": 52,
   "id": "d390900a-728c-495e-aaf1-131febf4144e",
   "metadata": {},
   "outputs": [],
   "source": [
    "name_collection_indexed = indexData(name_collection, 'Department')\n",
    "phone_collection_indexed = indexData(phone_collection, 'Gender')"
   ]
  },
  {
   "cell_type": "code",
   "execution_count": 53,
   "id": "e07830c0-f859-4f41-aa89-e370ee5ba2ce",
   "metadata": {},
   "outputs": [
    {
     "name": "stdout",
     "output_type": "stream",
     "text": [
      "Employee Count after Deletion: 1259\n"
     ]
    }
   ],
   "source": [
    "name_collection = delEmpById(name_collection, 'E02003')\n",
    "print(\"Employee Count after Deletion:\", getEmpCount(name_collection))"
   ]
  },
  {
   "cell_type": "code",
   "execution_count": 54,
   "id": "54ce6912-bfff-4f7f-a8fc-51ab5571dbdc",
   "metadata": {},
   "outputs": [],
   "source": [
    "# Search by Column\n",
    "it_employees = searchByColumn(name_collection, 'Department', 'IT')\n",
    "male_employees = searchByColumn(name_collection, 'Gender', 'Male')\n",
    "it_employees_phone = searchByColumn(phone_collection, 'Department', 'IT')"
   ]
  },
  {
   "cell_type": "code",
   "execution_count": 55,
   "id": "1914caca-205b-4530-9df4-45813713d175",
   "metadata": {},
   "outputs": [],
   "source": [
    "# Get Department Facets\n",
    "department_facet_name = getDepFacet(name_collection)\n",
    "department_facet_phone = getDepFacet(phone_collection)"
   ]
  },
  {
   "cell_type": "code",
   "execution_count": 56,
   "id": "dcf57f5b-e1de-4a5d-856e-187541799b95",
   "metadata": {},
   "outputs": [
    {
     "name": "stdout",
     "output_type": "stream",
     "text": [
      "Employees in IT Department:      Employee ID        Full Name              Job Title Department  \\\n",
      "2         E02004       Cameron Lo  Network Administrator         IT   \n",
      "3         E02005  Harper Castillo   IT Systems Architect         IT   \n",
      "5         E02007          Ezra Vu  Network Administrator         IT   \n",
      "8         E02010    Gianna Holmes  System Administrator          IT   \n",
      "10        E02012     Jameson Pena        Systems Analyst         IT   \n",
      "...          ...              ...                    ...        ...   \n",
      "1253      E02246     Landon Reyes               Director         IT   \n",
      "1255      E02248  Lucas Alexander               Director         IT   \n",
      "1258      E02251  Genesis Herrera                Manager         IT   \n",
      "1259      E02252   Olivia Vazquez       Network Engineer         IT   \n",
      "1260      E02253       Leilani Ng        Systems Analyst         IT   \n",
      "\n",
      "               Business Unit  Gender  Ethnicity   Age   Hire Date  \\\n",
      "2     Research & Development    Male      Asian  34.0   3/24/2019   \n",
      "3                  Corporate  Female     Latino  39.0    4/7/2018   \n",
      "5              Manufacturing    Male      Asian  62.0   4/22/2004   \n",
      "8              Manufacturing  Female  Caucasian  38.0    9/9/2011   \n",
      "10             Manufacturing    Male     Latino  49.0  10/12/2003   \n",
      "...                      ...     ...        ...   ...         ...   \n",
      "1253  Research & Development    Male     Latino  44.0   8/23/2014   \n",
      "1255           Manufacturing    Male      Black  41.0   9/20/2013   \n",
      "1258  Research & Development  Female     Latino  34.0   10/3/2015   \n",
      "1259      Specialty Products  Female     Latino  53.0   4/13/2020   \n",
      "1260               Corporate  Female      Asian  48.0   9/19/2011   \n",
      "\n",
      "     Annual Salary Bonus %        Country       City   Exit Date  \n",
      "2         $83,576       0%          China   Shanghai        None  \n",
      "3         $98,062       0%  United States    Seattle        None  \n",
      "5         $66,227       0%  United States    Phoenix   2/14/2014  \n",
      "8         $97,630       0%  United States    Seattle        None  \n",
      "10        $40,499       0%  United States      Miami        None  \n",
      "...            ...     ...            ...        ...         ...  \n",
      "1253     $171,823      27%  United States   Columbus        None  \n",
      "1255     $192,944      22%  United States      Miami        None  \n",
      "1258     $126,898      10%         Brazil     Manaus        None  \n",
      "1259      $93,053       0%         Brazil  Sao Paulo        None  \n",
      "1260      $50,513       0%  United States    Seattle  10/30/2019  \n",
      "\n",
      "[347 rows x 14 columns]\n",
      "Male Employees:      Employee ID        Full Name              Job Title   Department  \\\n",
      "0         E02002           Kai Le      Controls Engineer  Engineering   \n",
      "2         E02004       Cameron Lo  Network Administrator           IT   \n",
      "5         E02007          Ezra Vu  Network Administrator           IT   \n",
      "7         E02009      Miles Chang             Analyst II      Finance   \n",
      "9         E02011   Jameson Thomas                Manager      Finance   \n",
      "...          ...              ...                    ...          ...   \n",
      "1251      E02244    Connor Howard        Systems Analyst           IT   \n",
      "1253      E02246     Landon Reyes               Director           IT   \n",
      "1254      E02247          Noah Ma         Vice President   Accounting   \n",
      "1255      E02248  Lucas Alexander               Director           IT   \n",
      "1256      E02249         Henry Vo      Controls Engineer  Engineering   \n",
      "\n",
      "               Business Unit Gender  Ethnicity   Age  Hire Date Annual Salary  \\\n",
      "0              Manufacturing   Male      Asian  47.0   2/5/2022      $92,368    \n",
      "2     Research & Development   Male      Asian  34.0  3/24/2019      $83,576    \n",
      "5              Manufacturing   Male      Asian  62.0  4/22/2004      $66,227    \n",
      "7                  Corporate   Male      Asian  62.0  2/19/1999      $69,674    \n",
      "9         Specialty Products   Male  Caucasian  52.0   2/5/2015     $105,879    \n",
      "...                      ...    ...        ...   ...        ...           ...   \n",
      "1251      Specialty Products   Male  Caucasian  42.0  3/15/2021      $44,265    \n",
      "1253  Research & Development   Male     Latino  44.0  8/23/2014     $171,823    \n",
      "1254           Manufacturing   Male      Asian  28.0  11/6/2018     $201,013    \n",
      "1255           Manufacturing   Male      Black  41.0  9/20/2013     $192,944    \n",
      "1256           Manufacturing   Male      Asian  60.0  9/13/1996      $81,699    \n",
      "\n",
      "     Bonus %        Country      City  Exit Date  \n",
      "0         0%  United States  Columbus       None  \n",
      "2         0%          China  Shanghai       None  \n",
      "5         0%  United States   Phoenix  2/14/2014  \n",
      "7         0%          China   Chengdu       None  \n",
      "9        10%  United States     Miami       None  \n",
      "...      ...            ...       ...        ...  \n",
      "1251      0%  United States    Austin  6/27/2022  \n",
      "1253     27%  United States  Columbus       None  \n",
      "1254     31%  United States   Phoenix       None  \n",
      "1255     22%  United States     Miami       None  \n",
      "1256      0%          China   Beijing       None  \n",
      "\n",
      "[578 rows x 14 columns]\n",
      "Employees in IT Department (Phone Collection):      Employee ID        Full Name              Job Title Department  \\\n",
      "2         E02004       Cameron Lo  Network Administrator         IT   \n",
      "3         E02005  Harper Castillo   IT Systems Architect         IT   \n",
      "5         E02007          Ezra Vu  Network Administrator         IT   \n",
      "8         E02010    Gianna Holmes  System Administrator          IT   \n",
      "10        E02012     Jameson Pena        Systems Analyst         IT   \n",
      "...          ...              ...                    ...        ...   \n",
      "1253      E02246     Landon Reyes               Director         IT   \n",
      "1255      E02248  Lucas Alexander               Director         IT   \n",
      "1258      E02251  Genesis Herrera                Manager         IT   \n",
      "1259      E02252   Olivia Vazquez       Network Engineer         IT   \n",
      "1260      E02253       Leilani Ng        Systems Analyst         IT   \n",
      "\n",
      "               Business Unit  Gender  Ethnicity   Age   Hire Date  \\\n",
      "2     Research & Development    Male      Asian  34.0   3/24/2019   \n",
      "3                  Corporate  Female     Latino  39.0    4/7/2018   \n",
      "5              Manufacturing    Male      Asian  62.0   4/22/2004   \n",
      "8              Manufacturing  Female  Caucasian  38.0    9/9/2011   \n",
      "10             Manufacturing    Male     Latino  49.0  10/12/2003   \n",
      "...                      ...     ...        ...   ...         ...   \n",
      "1253  Research & Development    Male     Latino  44.0   8/23/2014   \n",
      "1255           Manufacturing    Male      Black  41.0   9/20/2013   \n",
      "1258  Research & Development  Female     Latino  34.0   10/3/2015   \n",
      "1259      Specialty Products  Female     Latino  53.0   4/13/2020   \n",
      "1260               Corporate  Female      Asian  48.0   9/19/2011   \n",
      "\n",
      "     Annual Salary Bonus %        Country       City   Exit Date  \n",
      "2         $83,576       0%          China   Shanghai        None  \n",
      "3         $98,062       0%  United States    Seattle        None  \n",
      "5         $66,227       0%  United States    Phoenix   2/14/2014  \n",
      "8         $97,630       0%  United States    Seattle        None  \n",
      "10        $40,499       0%  United States      Miami        None  \n",
      "...            ...     ...            ...        ...         ...  \n",
      "1253     $171,823      27%  United States   Columbus        None  \n",
      "1255     $192,944      22%  United States      Miami        None  \n",
      "1258     $126,898      10%         Brazil     Manaus        None  \n",
      "1259      $93,053       0%         Brazil  Sao Paulo        None  \n",
      "1260      $50,513       0%  United States    Seattle  10/30/2019  \n",
      "\n",
      "[347 rows x 14 columns]\n",
      "Department Facet (Name Collection):\n",
      " Department\n",
      "IT                 347\n",
      "Sales              185\n",
      "Engineering        159\n",
      "Marketing          136\n",
      "Accounting         132\n",
      "Finance            129\n",
      "Human Resources    124\n",
      "Name: count, dtype: int64\n",
      "Department Facet (Phone Collection):\n",
      " Department\n",
      "IT                 347\n",
      "Sales              188\n",
      "Engineering        159\n",
      "Marketing          136\n",
      "Accounting         132\n",
      "Finance            129\n",
      "Human Resources    124\n",
      "Name: count, dtype: int64\n"
     ]
    }
   ],
   "source": [
    "# Output Results\n",
    "print(\"Employees in IT Department:\", it_employees)\n",
    "print(\"Male Employees:\", male_employees)\n",
    "print(\"Employees in IT Department (Phone Collection):\", it_employees_phone)\n",
    "print(\"Department Facet (Name Collection):\\n\", department_facet_name)\n",
    "print(\"Department Facet (Phone Collection):\\n\", department_facet_phone)"
   ]
  }
 ],
 "metadata": {
  "kernelspec": {
   "display_name": "Python 3 (ipykernel)",
   "language": "python",
   "name": "python3"
  },
  "language_info": {
   "codemirror_mode": {
    "name": "ipython",
    "version": 3
   },
   "file_extension": ".py",
   "mimetype": "text/x-python",
   "name": "python",
   "nbconvert_exporter": "python",
   "pygments_lexer": "ipython3",
   "version": "3.12.7"
  }
 },
 "nbformat": 4,
 "nbformat_minor": 5
}
